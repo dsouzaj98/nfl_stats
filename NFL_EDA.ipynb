{
 "cells": [
  {
   "cell_type": "code",
   "execution_count": 6,
   "metadata": {},
   "outputs": [],
   "source": [
    "import pandas as pd"
   ]
  },
  {
   "cell_type": "code",
   "execution_count": 7,
   "metadata": {},
   "outputs": [],
   "source": [
    "df=pd.read_excel('nfl_stats.xlsx')"
   ]
  },
  {
   "cell_type": "code",
   "execution_count": 10,
   "metadata": {},
   "outputs": [
    {
     "name": "stdout",
     "output_type": "stream",
     "text": [
      "<class 'pandas.core.frame.DataFrame'>\n",
      "RangeIndex: 8198 entries, 0 to 8197\n",
      "Data columns (total 39 columns):\n",
      " #   Column           Non-Null Count  Dtype  \n",
      "---  ------           --------------  -----  \n",
      " 0   Year             8198 non-null   int64  \n",
      " 1   Player           8198 non-null   object \n",
      " 2   Age              8198 non-null   int64  \n",
      " 3   Hometown         8198 non-null   object \n",
      " 4   Home State       7972 non-null   object \n",
      " 5   Tm               8198 non-null   object \n",
      " 6   G                8198 non-null   int64  \n",
      " 7   GS               8198 non-null   int64  \n",
      " 8   Cmp              8197 non-null   float64\n",
      " 9   Att              8197 non-null   float64\n",
      " 10  Yds              8197 non-null   float64\n",
      " 11  TD               8197 non-null   float64\n",
      " 12  Int              8197 non-null   float64\n",
      " 13  Att.1            8197 non-null   float64\n",
      " 14  Yds.1            8197 non-null   float64\n",
      " 15  Y/A              4212 non-null   float64\n",
      " 16  TD.1             8197 non-null   float64\n",
      " 17  Rec              8197 non-null   float64\n",
      " 18  Yds.2            8197 non-null   float64\n",
      " 19  Y/R              5938 non-null   float64\n",
      " 20  TD.2             8197 non-null   float64\n",
      " 21  FantPos          8198 non-null   object \n",
      " 22  FantPt           6998 non-null   float64\n",
      " 23  Height (inches)  8198 non-null   int64  \n",
      " 24  Weight           8198 non-null   int64  \n",
      " 25  College          8178 non-null   object \n",
      " 26  Conference       7822 non-null   object \n",
      " 27  College wins     6821 non-null   float64\n",
      " 28  College losses   6821 non-null   float64\n",
      " 29  DOB              8198 non-null   object \n",
      " 30  Draft Round      8198 non-null   int64  \n",
      " 31  Draft Year       8198 non-null   int64  \n",
      " 32  Wonderlic        4085 non-null   float64\n",
      " 33  40 Yard          4085 non-null   float64\n",
      " 34  Bench Press      4085 non-null   float64\n",
      " 35  Vert Leap (in)   4085 non-null   float64\n",
      " 36  Broad Jump (in)  4085 non-null   float64\n",
      " 37  Shuttle          4085 non-null   float64\n",
      " 38  3Cone            4085 non-null   float64\n",
      "dtypes: float64(23), int64(8), object(8)\n",
      "memory usage: 2.4+ MB\n"
     ]
    }
   ],
   "source": [
    "df.head()\n",
    "df.info()"
   ]
  },
  {
   "cell_type": "code",
   "execution_count": 13,
   "metadata": {},
   "outputs": [
    {
     "data": {
      "text/html": [
       "<div>\n",
       "<style scoped>\n",
       "    .dataframe tbody tr th:only-of-type {\n",
       "        vertical-align: middle;\n",
       "    }\n",
       "\n",
       "    .dataframe tbody tr th {\n",
       "        vertical-align: top;\n",
       "    }\n",
       "\n",
       "    .dataframe thead th {\n",
       "        text-align: right;\n",
       "    }\n",
       "</style>\n",
       "<table border=\"1\" class=\"dataframe\">\n",
       "  <thead>\n",
       "    <tr style=\"text-align: right;\">\n",
       "      <th></th>\n",
       "      <th>Player</th>\n",
       "      <th>Age</th>\n",
       "      <th>Hometown</th>\n",
       "      <th>Home State</th>\n",
       "      <th>FantPos</th>\n",
       "      <th>Draft Round</th>\n",
       "      <th>Wonderlic</th>\n",
       "    </tr>\n",
       "  </thead>\n",
       "  <tbody>\n",
       "    <tr>\n",
       "      <th>0</th>\n",
       "      <td>LaDainian Tomlinson</td>\n",
       "      <td>27</td>\n",
       "      <td>Rosebud</td>\n",
       "      <td>TX</td>\n",
       "      <td>RB</td>\n",
       "      <td>1</td>\n",
       "      <td>0.0</td>\n",
       "    </tr>\n",
       "    <tr>\n",
       "      <th>1</th>\n",
       "      <td>Peyton Manning</td>\n",
       "      <td>37</td>\n",
       "      <td>New Orleans</td>\n",
       "      <td>LA</td>\n",
       "      <td>QB</td>\n",
       "      <td>1</td>\n",
       "      <td>NaN</td>\n",
       "    </tr>\n",
       "    <tr>\n",
       "      <th>2</th>\n",
       "      <td>Tom Brady</td>\n",
       "      <td>30</td>\n",
       "      <td>San Mateo</td>\n",
       "      <td>CA</td>\n",
       "      <td>QB</td>\n",
       "      <td>6</td>\n",
       "      <td>33.0</td>\n",
       "    </tr>\n",
       "    <tr>\n",
       "      <th>3</th>\n",
       "      <td>Aaron Rodgers</td>\n",
       "      <td>28</td>\n",
       "      <td>Chico</td>\n",
       "      <td>CA</td>\n",
       "      <td>QB</td>\n",
       "      <td>1</td>\n",
       "      <td>39.0</td>\n",
       "    </tr>\n",
       "    <tr>\n",
       "      <th>4</th>\n",
       "      <td>Drew Brees</td>\n",
       "      <td>32</td>\n",
       "      <td>Austin</td>\n",
       "      <td>TX</td>\n",
       "      <td>QB</td>\n",
       "      <td>2</td>\n",
       "      <td>28.0</td>\n",
       "    </tr>\n",
       "  </tbody>\n",
       "</table>\n",
       "</div>"
      ],
      "text/plain": [
       "                Player  Age     Hometown Home State FantPos  Draft Round  \\\n",
       "0  LaDainian Tomlinson   27      Rosebud         TX      RB            1   \n",
       "1       Peyton Manning   37  New Orleans         LA      QB            1   \n",
       "2            Tom Brady   30    San Mateo         CA      QB            6   \n",
       "3        Aaron Rodgers   28        Chico         CA      QB            1   \n",
       "4           Drew Brees   32       Austin         TX      QB            2   \n",
       "\n",
       "   Wonderlic  \n",
       "0        0.0  \n",
       "1        NaN  \n",
       "2       33.0  \n",
       "3       39.0  \n",
       "4       28.0  "
      ]
     },
     "execution_count": 13,
     "metadata": {},
     "output_type": "execute_result"
    }
   ],
   "source": [
    "wonder_df=df[['Player', 'Age', 'Hometown', 'Home State','FantPos', 'Draft Round', 'Wonderlic']].copy()\n",
    "wonder_df.head()"
   ]
  },
  {
   "cell_type": "code",
   "execution_count": null,
   "metadata": {},
   "outputs": [],
   "source": []
  }
 ],
 "metadata": {
  "kernelspec": {
   "display_name": "Python 3",
   "language": "python",
   "name": "python3"
  },
  "language_info": {
   "codemirror_mode": {
    "name": "ipython",
    "version": 3
   },
   "file_extension": ".py",
   "mimetype": "text/x-python",
   "name": "python",
   "nbconvert_exporter": "python",
   "pygments_lexer": "ipython3",
   "version": "3.8.3"
  }
 },
 "nbformat": 4,
 "nbformat_minor": 4
}
